{
 "cells": [
  {
   "cell_type": "code",
   "execution_count": 1,
   "id": "0665492b",
   "metadata": {},
   "outputs": [],
   "source": [
    "import pandas as pd\n",
    "import numpy as np\n",
    "import matplotlib.pyplot as plt"
   ]
  },
  {
   "cell_type": "code",
   "execution_count": 15,
   "id": "72466f85",
   "metadata": {},
   "outputs": [],
   "source": [
    "X = 6 * np.random.rand(100,1) - 3\n",
    "Y = 0.5 * X**2 + 1.5*X +2 + np.random.rand(100,1)\n",
    "#Using quadratic euqation used y = 0.5^2 + 1.5*X + 2 + outliers"
   ]
  },
  {
   "cell_type": "code",
   "execution_count": 16,
   "id": "b2baa2ec",
   "metadata": {},
   "outputs": [
    {
     "data": {
      "text/plain": [
       "array([[ 2.36263962],\n",
       "       [ 0.09274144],\n",
       "       [ 0.0587097 ],\n",
       "       [-2.18388387],\n",
       "       [ 0.0400567 ],\n",
       "       [-1.18779235],\n",
       "       [ 1.54283595],\n",
       "       [-0.85848849],\n",
       "       [ 0.42391549],\n",
       "       [ 2.88166782],\n",
       "       [-2.18360826],\n",
       "       [-2.82994752],\n",
       "       [-0.39641309],\n",
       "       [-2.25771179],\n",
       "       [-2.11080902],\n",
       "       [-0.15121486],\n",
       "       [-2.47946317],\n",
       "       [ 0.34227625],\n",
       "       [ 2.61728238],\n",
       "       [ 2.74421643],\n",
       "       [ 2.76441968],\n",
       "       [ 0.30414051],\n",
       "       [ 2.19497582],\n",
       "       [-1.7635721 ],\n",
       "       [-1.39431358],\n",
       "       [ 0.97105127],\n",
       "       [-1.83371131],\n",
       "       [ 1.24576484],\n",
       "       [ 1.25130699],\n",
       "       [ 1.5502956 ],\n",
       "       [ 1.97723994],\n",
       "       [ 0.55728615],\n",
       "       [-1.53814755],\n",
       "       [-1.41907456],\n",
       "       [ 2.27628708],\n",
       "       [-0.53352692],\n",
       "       [ 0.4571162 ],\n",
       "       [ 0.38527964],\n",
       "       [ 0.01373571],\n",
       "       [-2.2373654 ],\n",
       "       [ 0.90296046],\n",
       "       [-1.12392851],\n",
       "       [-1.96416964],\n",
       "       [ 1.22963636],\n",
       "       [-0.49270677],\n",
       "       [-2.34766813],\n",
       "       [-2.8674168 ],\n",
       "       [ 0.17838802],\n",
       "       [-1.14270411],\n",
       "       [ 2.08290546],\n",
       "       [-1.05113988],\n",
       "       [ 0.93310225],\n",
       "       [-2.391635  ],\n",
       "       [-2.1876955 ],\n",
       "       [-2.8742342 ],\n",
       "       [ 2.37852627],\n",
       "       [-1.32075779],\n",
       "       [-2.00725557],\n",
       "       [-2.23955853],\n",
       "       [ 1.05715124],\n",
       "       [-1.2355536 ],\n",
       "       [-2.37631107],\n",
       "       [-2.27884008],\n",
       "       [ 1.07561237],\n",
       "       [ 2.57591722],\n",
       "       [-0.22414936],\n",
       "       [ 0.15880131],\n",
       "       [ 2.51833429],\n",
       "       [-2.35924012],\n",
       "       [-0.19473832],\n",
       "       [-2.44748656],\n",
       "       [ 0.54388616],\n",
       "       [-1.11543734],\n",
       "       [-2.66774095],\n",
       "       [-0.20804138],\n",
       "       [ 0.51695296],\n",
       "       [-1.87415427],\n",
       "       [ 1.60006735],\n",
       "       [ 0.31283382],\n",
       "       [ 2.30707745],\n",
       "       [ 0.90914716],\n",
       "       [ 1.41742732],\n",
       "       [ 1.76167379],\n",
       "       [-1.93640394],\n",
       "       [-2.55027293],\n",
       "       [ 0.11945541],\n",
       "       [-1.63156751],\n",
       "       [-2.18157806],\n",
       "       [ 0.25527174],\n",
       "       [-2.75836953],\n",
       "       [-2.17153478],\n",
       "       [-1.95473316],\n",
       "       [-2.60262234],\n",
       "       [ 0.63338836],\n",
       "       [-0.44081087],\n",
       "       [-0.8251918 ],\n",
       "       [ 1.05491221],\n",
       "       [-1.75175543],\n",
       "       [ 2.61125612],\n",
       "       [ 1.50060063]])"
      ]
     },
     "execution_count": 16,
     "metadata": {},
     "output_type": "execute_result"
    }
   ],
   "source": [
    "X"
   ]
  },
  {
   "cell_type": "code",
   "execution_count": 9,
   "id": "a86acd8b",
   "metadata": {},
   "outputs": [
    {
     "data": {
      "text/plain": [
       "<matplotlib.collections.PathCollection at 0x21d85203e90>"
      ]
     },
     "execution_count": 9,
     "metadata": {},
     "output_type": "execute_result"
    },
    {
     "data": {
      "image/png": "[encoded data removed]",
      "text/plain": [
       "<Figure size 640x480 with 1 Axes>"
      ]
     },
     "metadata": {},
     "output_type": "display_data"
    }
   ],
   "source": [
    "plt.scatter(X,Y,color ='g')"
   ]
  },
  {
   "cell_type": "code",
   "execution_count": null,
   "id": "da1454f7",
   "metadata": {},
   "outputs": [],
   "source": []
  }
 ],
 "metadata": {
  "kernelspec": {
   "display_name": "Python 3",
   "language": "python",
   "name": "python3"
  },
  "language_info": {
   "codemirror_mode": {
    "name": "ipython",
    "version": 3
   },
   "file_extension": ".py",
   "mimetype": "text/x-python",
   "name": "python",
   "nbconvert_exporter": "python",
   "pygments_lexer": "ipython3",
   "version": "3.11.9"
  }
 },
 "nbformat": 4,
 "nbformat_minor": 5
}

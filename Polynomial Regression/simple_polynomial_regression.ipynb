{
 "cells": [
  {
   "cell_type": "code",
   "execution_count": 30,
   "id": "0665492b",
   "metadata": {},
   "outputs": [],
   "source": [
    "import pandas as pd\n",
    "import numpy as np\n",
    "import matplotlib.pyplot as plt\n",
    "from sklearn.preprocessing import PolynomialFeatures\n",
    "from sklearn.model_selection import train_test_split"
   ]
  },
  {
   "cell_type": "code",
   "execution_count": 31,
   "id": "72466f85",
   "metadata": {},
   "outputs": [],
   "source": [
    "X = 6 * np.random.rand(100,1) - 3\n",
    "Y = 0.5 * X**2 + 1.5*X +2 + np.random.rand(100,1)\n",
    "#Using quadratic euqation used y = 0.5^2 + 1.5*X + 2 + outliers"
   ]
  },
  {
   "cell_type": "code",
   "execution_count": 32,
   "id": "b2baa2ec",
   "metadata": {},
   "outputs": [
    {
     "data": {
      "text/plain": [
       "array([[-0.71224956],\n",
       "       [-1.307534  ],\n",
       "       [-2.77141533],\n",
       "       [-0.01256129],\n",
       "       [ 1.30157387],\n",
       "       [ 1.5029848 ],\n",
       "       [-1.65598649],\n",
       "       [ 0.9457565 ],\n",
       "       [-0.15855712],\n",
       "       [ 1.44209654],\n",
       "       [ 2.06586908],\n",
       "       [-1.24817233],\n",
       "       [-2.7235951 ],\n",
       "       [-1.85734389],\n",
       "       [-2.32611891],\n",
       "       [-1.83413106],\n",
       "       [ 0.38483904],\n",
       "       [ 0.34805449],\n",
       "       [-1.54930539],\n",
       "       [ 2.4886141 ],\n",
       "       [ 1.72597701],\n",
       "       [-0.47619396],\n",
       "       [-0.0650112 ],\n",
       "       [-2.59452931],\n",
       "       [ 0.28960492],\n",
       "       [-2.39110478],\n",
       "       [-0.75350606],\n",
       "       [ 0.46918438],\n",
       "       [ 1.75763947],\n",
       "       [ 1.48968039],\n",
       "       [ 1.22515168],\n",
       "       [ 2.66147681],\n",
       "       [ 1.91335319],\n",
       "       [-2.0912175 ],\n",
       "       [-1.70870531],\n",
       "       [ 1.01218472],\n",
       "       [-2.25924823],\n",
       "       [ 2.88351489],\n",
       "       [ 0.75871088],\n",
       "       [ 2.32834432],\n",
       "       [-2.23873989],\n",
       "       [-2.92184681],\n",
       "       [-2.78227996],\n",
       "       [-2.91742925],\n",
       "       [-2.61534272],\n",
       "       [ 2.65865753],\n",
       "       [ 1.64070745],\n",
       "       [ 1.65972938],\n",
       "       [-1.99207091],\n",
       "       [-0.38488569],\n",
       "       [-1.25010362],\n",
       "       [ 0.54686877],\n",
       "       [-0.88611453],\n",
       "       [ 2.75250432],\n",
       "       [ 0.20266049],\n",
       "       [ 1.89219432],\n",
       "       [-0.96783411],\n",
       "       [-1.40689893],\n",
       "       [-2.44687338],\n",
       "       [ 0.61027997],\n",
       "       [-0.93942255],\n",
       "       [ 0.1537458 ],\n",
       "       [ 0.24908409],\n",
       "       [ 2.37196404],\n",
       "       [ 1.7045101 ],\n",
       "       [ 0.68037719],\n",
       "       [-2.89938079],\n",
       "       [ 1.14898158],\n",
       "       [ 0.5632904 ],\n",
       "       [-0.89992603],\n",
       "       [ 0.6809931 ],\n",
       "       [-2.7728362 ],\n",
       "       [ 0.52063818],\n",
       "       [ 1.90187991],\n",
       "       [-2.39807897],\n",
       "       [ 0.79067139],\n",
       "       [ 2.33477371],\n",
       "       [-2.81024224],\n",
       "       [-2.70129524],\n",
       "       [-0.54582018],\n",
       "       [ 0.21648376],\n",
       "       [ 1.78493903],\n",
       "       [-0.1588628 ],\n",
       "       [ 1.29452504],\n",
       "       [-2.77855191],\n",
       "       [-2.21517384],\n",
       "       [ 0.35228442],\n",
       "       [ 1.05536824],\n",
       "       [ 1.43333696],\n",
       "       [ 0.42965068],\n",
       "       [-1.67233692],\n",
       "       [-1.23370673],\n",
       "       [-1.26641313],\n",
       "       [-2.38849037],\n",
       "       [ 2.49004013],\n",
       "       [ 2.16467144],\n",
       "       [-0.38908852],\n",
       "       [-0.15296281],\n",
       "       [ 2.02918413],\n",
       "       [ 2.59853324]])"
      ]
     },
     "execution_count": 32,
     "metadata": {},
     "output_type": "execute_result"
    }
   ],
   "source": [
    "X"
   ]
  },
  {
   "cell_type": "code",
   "execution_count": 33,
   "id": "a86acd8b",
   "metadata": {},
   "outputs": [
    {
     "data": {
      "text/plain": [
       "<matplotlib.collections.PathCollection at 0x21d8dece650>"
      ]
     },
     "execution_count": 33,
     "metadata": {},
     "output_type": "execute_result"
    },
    {
     "data": {
      "image/png": "[encoded data removed]",
      "text/plain": [
       "<Figure size 640x480 with 1 Axes>"
      ]
     },
     "metadata": {},
     "output_type": "display_data"
    }
   ],
   "source": [
    "plt.scatter(X,Y,color ='g')"
   ]
  },
  {
   "cell_type": "code",
   "execution_count": 34,
   "id": "e8bb4641",
   "metadata": {},
   "outputs": [],
   "source": [
    "X_train,X_test,Y_train,Y_test = train_test_split(X,Y, test_size=0.2, random_state=42)"
   ]
  },
  {
   "cell_type": "code",
   "execution_count": 35,
   "id": "da1454f7",
   "metadata": {},
   "outputs": [],
   "source": [
    "poly = PolynomialFeatures(degree = 2, include_bias=True)"
   ]
  },
  {
   "cell_type": "code",
   "execution_count": 36,
   "id": "b7500943",
   "metadata": {},
   "outputs": [],
   "source": [
    "X_train_poly = poly.fit_transform(X_train)\n",
    "X_test_poly = poly.transform(X_test)"
   ]
  },
  {
   "cell_type": "code",
   "execution_count": 37,
   "id": "cb976bc5",
   "metadata": {},
   "outputs": [
    {
     "data": {
      "text/plain": [
       "array([[ 1.00000000e+00,  1.89219432e+00,  3.58039935e+00],\n",
       "       [ 1.00000000e+00,  1.43333696e+00,  2.05445484e+00],\n",
       "       [ 1.00000000e+00, -7.53506062e-01,  5.67771386e-01],\n",
       "       [ 1.00000000e+00, -2.78227996e+00,  7.74108179e+00],\n",
       "       [ 1.00000000e+00, -8.99926026e-01,  8.09866853e-01],\n",
       "       [ 1.00000000e+00, -1.83413106e+00,  3.36403673e+00],\n",
       "       [ 1.00000000e+00, -2.23873989e+00,  5.01195627e+00],\n",
       "       [ 1.00000000e+00, -3.89088521e-01,  1.51389877e-01],\n",
       "       [ 1.00000000e+00,  1.44209654e+00,  2.07964243e+00],\n",
       "       [ 1.00000000e+00,  5.20638183e-01,  2.71064118e-01],\n",
       "       [ 1.00000000e+00, -1.24817233e+00,  1.55793417e+00],\n",
       "       [ 1.00000000e+00,  1.65972938e+00,  2.75470162e+00],\n",
       "       [ 1.00000000e+00, -2.21517384e+00,  4.90699512e+00],\n",
       "       [ 1.00000000e+00,  1.75763947e+00,  3.08929650e+00],\n",
       "       [ 1.00000000e+00, -2.38849037e+00,  5.70488626e+00],\n",
       "       [ 1.00000000e+00,  1.50298480e+00,  2.25896331e+00],\n",
       "       [ 1.00000000e+00, -2.89938079e+00,  8.40640898e+00],\n",
       "       [ 1.00000000e+00,  6.80377188e-01,  4.62913117e-01],\n",
       "       [ 1.00000000e+00,  1.01218472e+00,  1.02451791e+00],\n",
       "       [ 1.00000000e+00,  3.84839044e-01,  1.48101090e-01],\n",
       "       [ 1.00000000e+00, -3.84885688e-01,  1.48136993e-01],\n",
       "       [ 1.00000000e+00, -1.70870531e+00,  2.91967385e+00],\n",
       "       [ 1.00000000e+00,  9.45756502e-01,  8.94455361e-01],\n",
       "       [ 1.00000000e+00,  2.16467144e+00,  4.68580243e+00],\n",
       "       [ 1.00000000e+00,  4.69184379e-01,  2.20133982e-01],\n",
       "       [ 1.00000000e+00,  2.48861410e+00,  6.19320014e+00],\n",
       "       [ 1.00000000e+00,  1.78493903e+00,  3.18600734e+00],\n",
       "       [ 1.00000000e+00, -2.39110478e+00,  5.71738206e+00],\n",
       "       [ 1.00000000e+00,  2.49084093e-01,  6.20428854e-02],\n",
       "       [ 1.00000000e+00, -1.85734389e+00,  3.44972632e+00],\n",
       "       [ 1.00000000e+00,  2.89604922e-01,  8.38710108e-02],\n",
       "       [ 1.00000000e+00, -1.25612909e-02,  1.57786028e-04],\n",
       "       [ 1.00000000e+00,  3.48054491e-01,  1.21141929e-01],\n",
       "       [ 1.00000000e+00,  7.58710877e-01,  5.75642195e-01],\n",
       "       [ 1.00000000e+00, -1.58557122e-01,  2.51403610e-02],\n",
       "       [ 1.00000000e+00, -2.70129524e+00,  7.29699596e+00],\n",
       "       [ 1.00000000e+00, -1.65598649e+00,  2.74229127e+00],\n",
       "       [ 1.00000000e+00,  1.70451010e+00,  2.90535469e+00],\n",
       "       [ 1.00000000e+00, -2.25924823e+00,  5.10420258e+00],\n",
       "       [ 1.00000000e+00,  4.29650681e-01,  1.84599708e-01],\n",
       "       [ 1.00000000e+00, -9.67834109e-01,  9.36702863e-01],\n",
       "       [ 1.00000000e+00,  2.59853324e+00,  6.75237501e+00],\n",
       "       [ 1.00000000e+00,  2.02660495e-01,  4.10712762e-02],\n",
       "       [ 1.00000000e+00, -2.91742925e+00,  8.51139340e+00],\n",
       "       [ 1.00000000e+00, -1.25010362e+00,  1.56275906e+00],\n",
       "       [ 1.00000000e+00,  1.14898158e+00,  1.32015867e+00],\n",
       "       [ 1.00000000e+00,  1.64070745e+00,  2.69192093e+00],\n",
       "       [ 1.00000000e+00,  5.63290395e-01,  3.17296070e-01],\n",
       "       [ 1.00000000e+00,  1.53745804e-01,  2.36377722e-02],\n",
       "       [ 1.00000000e+00, -1.52962806e-01,  2.33976199e-02],\n",
       "       [ 1.00000000e+00, -5.45820178e-01,  2.97919667e-01],\n",
       "       [ 1.00000000e+00, -2.92184681e+00,  8.53718879e+00],\n",
       "       [ 1.00000000e+00, -2.44687338e+00,  5.98718933e+00],\n",
       "       [ 1.00000000e+00, -1.99207091e+00,  3.96834650e+00],\n",
       "       [ 1.00000000e+00,  2.02918413e+00,  4.11758824e+00],\n",
       "       [ 1.00000000e+00, -1.40689893e+00,  1.97936460e+00],\n",
       "       [ 1.00000000e+00,  7.90671393e-01,  6.25161251e-01],\n",
       "       [ 1.00000000e+00,  1.91335319e+00,  3.66092045e+00],\n",
       "       [ 1.00000000e+00,  2.49004013e+00,  6.20029984e+00],\n",
       "       [ 1.00000000e+00,  6.10279970e-01,  3.72441642e-01],\n",
       "       [ 1.00000000e+00,  2.37196404e+00,  5.62621340e+00],\n",
       "       [ 1.00000000e+00, -2.77855191e+00,  7.72035073e+00],\n",
       "       [ 1.00000000e+00,  2.88351489e+00,  8.31465809e+00],\n",
       "       [ 1.00000000e+00,  1.48968039e+00,  2.21914768e+00],\n",
       "       [ 1.00000000e+00, -1.30753400e+00,  1.70964516e+00],\n",
       "       [ 1.00000000e+00, -8.86114533e-01,  7.85198966e-01],\n",
       "       [ 1.00000000e+00, -4.76193956e-01,  2.26760683e-01],\n",
       "       [ 1.00000000e+00, -2.77141533e+00,  7.68074292e+00],\n",
       "       [ 1.00000000e+00, -2.59452931e+00,  6.73158236e+00],\n",
       "       [ 1.00000000e+00,  1.05536824e+00,  1.11380212e+00],\n",
       "       [ 1.00000000e+00, -1.23370673e+00,  1.52203229e+00],\n",
       "       [ 1.00000000e+00, -2.39807897e+00,  5.75078272e+00],\n",
       "       [ 1.00000000e+00,  3.52284419e-01,  1.24104312e-01],\n",
       "       [ 1.00000000e+00, -1.58862797e-01,  2.52373884e-02],\n",
       "       [ 1.00000000e+00,  1.72597701e+00,  2.97899663e+00],\n",
       "       [ 1.00000000e+00, -9.39422552e-01,  8.82514732e-01],\n",
       "       [ 1.00000000e+00, -2.77283620e+00,  7.68862061e+00],\n",
       "       [ 1.00000000e+00, -2.32611891e+00,  5.41082918e+00],\n",
       "       [ 1.00000000e+00, -1.26641313e+00,  1.60380221e+00],\n",
       "       [ 1.00000000e+00,  5.46868771e-01,  2.99065453e-01]])"
      ]
     },
     "execution_count": 37,
     "metadata": {},
     "output_type": "execute_result"
    }
   ],
   "source": [
    "X_train_poly"
   ]
  },
  {
   "cell_type": "code",
   "execution_count": null,
   "id": "30a98fab",
   "metadata": {},
   "outputs": [],
   "source": []
  }
 ],
 "metadata": {
  "kernelspec": {
   "display_name": "Python 3",
   "language": "python",
   "name": "python3"
  },
  "language_info": {
   "codemirror_mode": {
    "name": "ipython",
    "version": 3
   },
   "file_extension": ".py",
   "mimetype": "text/x-python",
   "name": "python",
   "nbconvert_exporter": "python",
   "pygments_lexer": "ipython3",
   "version": "3.11.9"
  }
 },
 "nbformat": 4,
 "nbformat_minor": 5
}

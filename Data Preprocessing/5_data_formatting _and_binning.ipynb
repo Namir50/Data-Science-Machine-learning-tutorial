{
 "cells": [
  {
   "cell_type": "code",
   "execution_count": null,
   "metadata": {},
   "outputs": [],
   "source": [
    "#It is checking and makig sure that all data is in the correct format"
   ]
  }
 ],
 "metadata": {
  "language_info": {
   "name": "python"
  }
 },
 "nbformat": 4,
 "nbformat_minor": 2
}

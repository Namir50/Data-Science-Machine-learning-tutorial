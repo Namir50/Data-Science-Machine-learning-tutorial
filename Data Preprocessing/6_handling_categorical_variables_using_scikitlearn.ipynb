{
 "cells": [
  {
   "cell_type": "markdown",
   "metadata": {},
   "source": [
    "<h4>Since machine learning moel completely works on mathematics and numbers, but if our dataset would hsve a categoricl variable, then it may create trouble while building the model. So it is necessary to encode these categorical variables into numbers<h4>"
   ]
  },
  {
   "cell_type": "code",
   "execution_count": null,
   "metadata": {},
   "outputs": [],
   "source": []
  }
 ],
 "metadata": {
  "language_info": {
   "name": "python"
  }
 },
 "nbformat": 4,
 "nbformat_minor": 2
}

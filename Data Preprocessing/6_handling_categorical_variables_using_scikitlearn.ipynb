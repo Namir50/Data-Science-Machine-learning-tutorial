{
 "cells": [
  {
   "cell_type": "markdown",
   "metadata": {},
   "source": [
    "<h3>Since machine learning moel completely works on mathematics and numbers, but if our dataset would hsve a categorical variable, then it may create trouble while building the model. So it is necessary to encode these categorical variables into numbers<h3>"
   ]
  },
  {
   "cell_type": "markdown",
   "metadata": {},
   "source": [
    "<h5>Label encoding refers to converting the labels into numberic form so as to convert it into the machine readable form, ex: can be usedto encode categories such as low, medium, high, very high since the machine learning model can understand the intensity of the values which will be same as the categories<h5>"
   ]
  },
  {
   "cell_type": "markdown",
   "metadata": {},
   "source": [
    "<h5>One-hot encoding converts categories (like colors or labels) into numbers so that a machine learning model can understand them. Each category gets its own column, and in that column, it's marked as 1 if it's present and 0 if not<h5>\n",
    "\n"
   ]
  },
  {
   "cell_type": "code",
   "execution_count": null,
   "metadata": {},
   "outputs": [],
   "source": [
    " "
   ]
  }
 ],
 "metadata": {
  "language_info": {
   "name": "python"
  }
 },
 "nbformat": 4,
 "nbformat_minor": 2
}

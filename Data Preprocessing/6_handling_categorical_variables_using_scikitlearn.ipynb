{
 "cells": [
  {
   "cell_type": "markdown",
   "metadata": {},
   "source": [
    "<h4>Since machine learning moel completely works on mathematics and numbers, but if our dataset would hsve a categoricl variable, then it may create trouble while building the model. So it is necessary to encode these categorical variables into numbers<h4>"
   ]
  },
  {
   "cell_type": "markdown",
   "metadata": {},
   "source": [
    "<h5>Label encoding refers to converting the labels into numberic form so as to convert it into the machine readable form, ex: can be usedto encode categories such as low, medium, high, very high since the machine learning model can understand the intensity of the values which will be same as the categories<h5>"
   ]
  },
  {
   "cell_type": "code",
   "execution_count": null,
   "metadata": {},
   "outputs": [],
   "source": []
  }
 ],
 "metadata": {
  "language_info": {
   "name": "python"
  }
 },
 "nbformat": 4,
 "nbformat_minor": 2
}

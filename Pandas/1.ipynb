{
 "cells": [
  {
   "cell_type": "markdown",
   "metadata": {},
   "source": [
    "<h3>Pandas</h3> \n",
    "<h3></h3>\n",
    "Pandas is a powerful data manipulation library in python widely use for data analysis and data cleaning. It provides data structures and functions to efficiently handle structured data,data structues here are Seris and DataFrame. A Series is one dimensional array like object, while DataFrame is a two dimensional, size mutable and potentially heterogeneous tabular data structure with labeled axes(rows and columns)"
   ]
  },
  {
   "cell_type": "code",
   "execution_count": 2,
   "metadata": {},
   "outputs": [],
   "source": [
    "import pandas as pd"
   ]
  },
  {
   "cell_type": "code",
   "execution_count": 7,
   "metadata": {},
   "outputs": [
    {
     "data": {
      "text/plain": [
       "0     1\n",
       "1     2\n",
       "2     7\n",
       "3     3\n",
       "4    23\n",
       "5     5\n",
       "6    10\n",
       "7    19\n",
       "dtype: int64"
      ]
     },
     "execution_count": 7,
     "metadata": {},
     "output_type": "execute_result"
    }
   ],
   "source": [
    "s1 = pd.Series([1,2,7,3,23,5,10,19])\n",
    "s1"
   ]
  },
  {
   "cell_type": "code",
   "execution_count": 8,
   "metadata": {},
   "outputs": [
    {
     "name": "stdout",
     "output_type": "stream",
     "text": [
      "<class 'pandas.core.series.Series'>\n"
     ]
    }
   ],
   "source": [
    "print(type(s1))"
   ]
  },
  {
   "cell_type": "code",
   "execution_count": 9,
   "metadata": {},
   "outputs": [
    {
     "data": {
      "text/plain": [
       "a    23\n",
       "b    54\n",
       "c     3\n",
       "d    90\n",
       "dtype: int64"
      ]
     },
     "execution_count": 9,
     "metadata": {},
     "output_type": "execute_result"
    }
   ],
   "source": [
    "s2 = {'a':23,'b':54,'c':3,'d':90}\n",
    "s2 = pd.Series(s2)\n",
    "s2"
   ]
  },
  {
   "cell_type": "code",
   "execution_count": 11,
   "metadata": {},
   "outputs": [
    {
     "data": {
      "text/plain": [
       "Namir     10\n",
       "Ibaad     20\n",
       "Armaan    40\n",
       "Shah      80\n",
       "dtype: int64"
      ]
     },
     "execution_count": 11,
     "metadata": {},
     "output_type": "execute_result"
    }
   ],
   "source": [
    "data = [10,20,40,80]\n",
    "index = [\"Namir\",\"Ibaad\",\"Armaan\",\"Shah\"]\n",
    "pd.Series(data,index = index)\n"
   ]
  },
  {
   "cell_type": "code",
   "execution_count": 14,
   "metadata": {},
   "outputs": [
    {
     "data": {
      "text/html": [
       "<div>\n",
       "<style scoped>\n",
       "    .dataframe tbody tr th:only-of-type {\n",
       "        vertical-align: middle;\n",
       "    }\n",
       "\n",
       "    .dataframe tbody tr th {\n",
       "        vertical-align: top;\n",
       "    }\n",
       "\n",
       "    .dataframe thead th {\n",
       "        text-align: right;\n",
       "    }\n",
       "</style>\n",
       "<table border=\"1\" class=\"dataframe\">\n",
       "  <thead>\n",
       "    <tr style=\"text-align: right;\">\n",
       "      <th></th>\n",
       "      <th>Name</th>\n",
       "      <th>Age</th>\n",
       "      <th>Location</th>\n",
       "      <th>Gender</th>\n",
       "      <th>Income</th>\n",
       "    </tr>\n",
       "  </thead>\n",
       "  <tbody>\n",
       "    <tr>\n",
       "      <th>0</th>\n",
       "      <td>Namir</td>\n",
       "      <td>21</td>\n",
       "      <td>USA</td>\n",
       "      <td>Male</td>\n",
       "      <td>5000000</td>\n",
       "    </tr>\n",
       "    <tr>\n",
       "      <th>1</th>\n",
       "      <td>John</td>\n",
       "      <td>31</td>\n",
       "      <td>UK</td>\n",
       "      <td>Female</td>\n",
       "      <td>60000</td>\n",
       "    </tr>\n",
       "    <tr>\n",
       "      <th>2</th>\n",
       "      <td>Arya</td>\n",
       "      <td>41</td>\n",
       "      <td>Canada</td>\n",
       "      <td>Male</td>\n",
       "      <td>70000</td>\n",
       "    </tr>\n",
       "    <tr>\n",
       "      <th>3</th>\n",
       "      <td>Rob</td>\n",
       "      <td>51</td>\n",
       "      <td>Australia</td>\n",
       "      <td>Male</td>\n",
       "      <td>80000</td>\n",
       "    </tr>\n",
       "    <tr>\n",
       "      <th>4</th>\n",
       "      <td>Ned</td>\n",
       "      <td>61</td>\n",
       "      <td>Germany</td>\n",
       "      <td>Male</td>\n",
       "      <td>90000</td>\n",
       "    </tr>\n",
       "    <tr>\n",
       "      <th>5</th>\n",
       "      <td>Snow</td>\n",
       "      <td>71</td>\n",
       "      <td>France</td>\n",
       "      <td>Male</td>\n",
       "      <td>100000</td>\n",
       "    </tr>\n",
       "    <tr>\n",
       "      <th>6</th>\n",
       "      <td>Catlyn</td>\n",
       "      <td>81</td>\n",
       "      <td>Spain</td>\n",
       "      <td>Female</td>\n",
       "      <td>2000000</td>\n",
       "    </tr>\n",
       "  </tbody>\n",
       "</table>\n",
       "</div>"
      ],
      "text/plain": [
       "     Name  Age   Location  Gender   Income\n",
       "0   Namir   21        USA    Male  5000000\n",
       "1    John   31         UK  Female    60000\n",
       "2    Arya   41     Canada    Male    70000\n",
       "3     Rob   51  Australia    Male    80000\n",
       "4     Ned   61    Germany    Male    90000\n",
       "5    Snow   71     France    Male   100000\n",
       "6  Catlyn   81      Spain  Female  2000000"
      ]
     },
     "execution_count": 14,
     "metadata": {},
     "output_type": "execute_result"
    }
   ],
   "source": [
    "data1 = {\n",
    "    'Name' : ['Namir','John','Arya','Rob','Ned','Snow','Catlyn'],\n",
    "    'Age' : [21, 31, 41, 51, 61, 71, 81],\n",
    "    'Location' : ['USA','UK','Canada','Australia','Germany','France','Spain'],\n",
    "    'Gender' : ['Male','Female','Male','Male','Male','Male','Female'],\n",
    "    'Income' : [5000000, 60000, 70000, 80000, 90000,100000,2000000]\n",
    "    }\n",
    "data1 = pd.DataFrame(data1)\n",
    "data1"
   ]
  },
  {
   "cell_type": "code",
   "execution_count": 6,
   "metadata": {},
   "outputs": [
    {
     "data": {
      "text/html": [
       "<div>\n",
       "<style scoped>\n",
       "    .dataframe tbody tr th:only-of-type {\n",
       "        vertical-align: middle;\n",
       "    }\n",
       "\n",
       "    .dataframe tbody tr th {\n",
       "        vertical-align: top;\n",
       "    }\n",
       "\n",
       "    .dataframe thead th {\n",
       "        text-align: right;\n",
       "    }\n",
       "</style>\n",
       "<table border=\"1\" class=\"dataframe\">\n",
       "  <thead>\n",
       "    <tr style=\"text-align: right;\">\n",
       "      <th></th>\n",
       "      <th>Name</th>\n",
       "      <th>Age</th>\n",
       "      <th>Location</th>\n",
       "    </tr>\n",
       "  </thead>\n",
       "  <tbody>\n",
       "    <tr>\n",
       "      <th>0</th>\n",
       "      <td>Namir</td>\n",
       "      <td>21</td>\n",
       "      <td>New York</td>\n",
       "    </tr>\n",
       "    <tr>\n",
       "      <th>1</th>\n",
       "      <td>jon</td>\n",
       "      <td>30</td>\n",
       "      <td>Los Angeles</td>\n",
       "    </tr>\n",
       "    <tr>\n",
       "      <th>2</th>\n",
       "      <td>John</td>\n",
       "      <td>25</td>\n",
       "      <td>Chicago</td>\n",
       "    </tr>\n",
       "    <tr>\n",
       "      <th>3</th>\n",
       "      <td>Stark</td>\n",
       "      <td>27</td>\n",
       "      <td>Chicago</td>\n",
       "    </tr>\n",
       "    <tr>\n",
       "      <th>4</th>\n",
       "      <td>Dron</td>\n",
       "      <td>25</td>\n",
       "      <td>New Jersey</td>\n",
       "    </tr>\n",
       "  </tbody>\n",
       "</table>\n",
       "</div>"
      ],
      "text/plain": [
       "    Name  Age     Location\n",
       "0  Namir   21     New York\n",
       "1    jon   30  Los Angeles\n",
       "2   John   25      Chicago\n",
       "3  Stark   27      Chicago\n",
       "4   Dron   25   New Jersey"
      ]
     },
     "execution_count": 6,
     "metadata": {},
     "output_type": "execute_result"
    }
   ],
   "source": [
    "data2 = [\n",
    "    {'Name' :'Namir', 'Age': 21, 'Location': 'New York'},\n",
    "    {'Name': 'jon', 'Age' : 30, 'Location': 'Los Angeles'},\n",
    "    {'Name': 'John', 'Age': 25, 'Location': 'Chicago'},\n",
    "    {'Name': 'Stark', 'Age': 27, 'Location': 'Chicago'},\n",
    "    {'Name': 'Dron', 'Age': 25, 'Location': 'New Jersey'},\n",
    "]\n",
    "\n",
    "data2 = pd.DataFrame(data2)\n",
    "data2"
   ]
  },
  {
   "cell_type": "code",
   "execution_count": 7,
   "metadata": {},
   "outputs": [
    {
     "name": "stdout",
     "output_type": "stream",
     "text": [
      "<class 'pandas.core.frame.DataFrame'>\n"
     ]
    }
   ],
   "source": [
    "print(type(data2))"
   ]
  },
  {
   "cell_type": "code",
   "execution_count": 8,
   "metadata": {},
   "outputs": [
    {
     "name": "stderr",
     "output_type": "stream",
     "text": [
      "C:\\Users\\namir\\AppData\\Local\\Temp\\ipykernel_8100\\391503594.py:1: DtypeWarning: Columns (4) have mixed types. Specify dtype option on import or set low_memory=False.\n",
      "  la_data = pd.read_csv('LA_airbnb.csv')\n"
     ]
    }
   ],
   "source": [
    "la_data = pd.read_csv('LA_airbnb.csv')"
   ]
  },
  {
   "cell_type": "code",
   "execution_count": 9,
   "metadata": {},
   "outputs": [
    {
     "data": {
      "text/html": [
       "<div>\n",
       "<style scoped>\n",
       "    .dataframe tbody tr th:only-of-type {\n",
       "        vertical-align: middle;\n",
       "    }\n",
       "\n",
       "    .dataframe tbody tr th {\n",
       "        vertical-align: top;\n",
       "    }\n",
       "\n",
       "    .dataframe thead th {\n",
       "        text-align: right;\n",
       "    }\n",
       "</style>\n",
       "<table border=\"1\" class=\"dataframe\">\n",
       "  <thead>\n",
       "    <tr style=\"text-align: right;\">\n",
       "      <th></th>\n",
       "      <th>id</th>\n",
       "      <th>name</th>\n",
       "      <th>host_id</th>\n",
       "      <th>host_name</th>\n",
       "      <th>host_since</th>\n",
       "      <th>host_response_time</th>\n",
       "      <th>host_response_rate</th>\n",
       "      <th>host_is_superhost</th>\n",
       "      <th>neighbourhood_cleansed</th>\n",
       "      <th>neighbourhood_group_cleansed</th>\n",
       "      <th>...</th>\n",
       "      <th>bathrooms</th>\n",
       "      <th>bedrooms</th>\n",
       "      <th>beds</th>\n",
       "      <th>price</th>\n",
       "      <th>minimum_nights</th>\n",
       "      <th>availability_365</th>\n",
       "      <th>number_of_reviews</th>\n",
       "      <th>review_scores_rating</th>\n",
       "      <th>license</th>\n",
       "      <th>instant_bookable</th>\n",
       "    </tr>\n",
       "  </thead>\n",
       "  <tbody>\n",
       "    <tr>\n",
       "      <th>0</th>\n",
       "      <td>670339032744709144</td>\n",
       "      <td>Westwood lovely three bedrooms three bathrooms</td>\n",
       "      <td>4780152</td>\n",
       "      <td>Moon</td>\n",
       "      <td>20/01/13</td>\n",
       "      <td>within a few hours</td>\n",
       "      <td>0.96</td>\n",
       "      <td>f</td>\n",
       "      <td>West Los Angeles</td>\n",
       "      <td>City of Los Angeles</td>\n",
       "      <td>...</td>\n",
       "      <td>3.0</td>\n",
       "      <td>3.0</td>\n",
       "      <td>3.0</td>\n",
       "      <td>399.0</td>\n",
       "      <td>30</td>\n",
       "      <td>365</td>\n",
       "      <td>0</td>\n",
       "      <td>NaN</td>\n",
       "      <td>NaN</td>\n",
       "      <td>f</td>\n",
       "    </tr>\n",
       "    <tr>\n",
       "      <th>1</th>\n",
       "      <td>37014494</td>\n",
       "      <td>Spanish style lower duplex near Beverly Hills</td>\n",
       "      <td>278288178</td>\n",
       "      <td>Ida</td>\n",
       "      <td>22/07/19</td>\n",
       "      <td>NaN</td>\n",
       "      <td>NaN</td>\n",
       "      <td>f</td>\n",
       "      <td>Beverlywood</td>\n",
       "      <td>City of Los Angeles</td>\n",
       "      <td>...</td>\n",
       "      <td>NaN</td>\n",
       "      <td>2.0</td>\n",
       "      <td>NaN</td>\n",
       "      <td>NaN</td>\n",
       "      <td>30</td>\n",
       "      <td>0</td>\n",
       "      <td>0</td>\n",
       "      <td>NaN</td>\n",
       "      <td>NaN</td>\n",
       "      <td>f</td>\n",
       "    </tr>\n",
       "    <tr>\n",
       "      <th>2</th>\n",
       "      <td>1024835174766068422</td>\n",
       "      <td>Charming Beverly Hills Home</td>\n",
       "      <td>513813179</td>\n",
       "      <td>Tiana</td>\n",
       "      <td>08/05/23</td>\n",
       "      <td>within a day</td>\n",
       "      <td>0.60</td>\n",
       "      <td>f</td>\n",
       "      <td>Beverly Hills</td>\n",
       "      <td>Other Cities</td>\n",
       "      <td>...</td>\n",
       "      <td>3.0</td>\n",
       "      <td>3.0</td>\n",
       "      <td>3.0</td>\n",
       "      <td>434.0</td>\n",
       "      <td>30</td>\n",
       "      <td>267</td>\n",
       "      <td>0</td>\n",
       "      <td>NaN</td>\n",
       "      <td>NaN</td>\n",
       "      <td>f</td>\n",
       "    </tr>\n",
       "    <tr>\n",
       "      <th>3</th>\n",
       "      <td>850744632375448560</td>\n",
       "      <td>Tianpu's warm room with bathroom</td>\n",
       "      <td>432956623</td>\n",
       "      <td>Dan</td>\n",
       "      <td>22/11/21</td>\n",
       "      <td>a few days or more</td>\n",
       "      <td>0.20</td>\n",
       "      <td>f</td>\n",
       "      <td>Temple City</td>\n",
       "      <td>Other Cities</td>\n",
       "      <td>...</td>\n",
       "      <td>1.0</td>\n",
       "      <td>1.0</td>\n",
       "      <td>1.0</td>\n",
       "      <td>49.0</td>\n",
       "      <td>1</td>\n",
       "      <td>364</td>\n",
       "      <td>1</td>\n",
       "      <td>3.00</td>\n",
       "      <td>NaN</td>\n",
       "      <td>f</td>\n",
       "    </tr>\n",
       "    <tr>\n",
       "      <th>4</th>\n",
       "      <td>953950676345326970</td>\n",
       "      <td>Santa Monica apt, free parking, steps to the b...</td>\n",
       "      <td>528669205</td>\n",
       "      <td>Farkhat</td>\n",
       "      <td>29/07/23</td>\n",
       "      <td>within an hour</td>\n",
       "      <td>1.00</td>\n",
       "      <td>t</td>\n",
       "      <td>Santa Monica</td>\n",
       "      <td>Other Cities</td>\n",
       "      <td>...</td>\n",
       "      <td>1.0</td>\n",
       "      <td>0.0</td>\n",
       "      <td>1.0</td>\n",
       "      <td>231.0</td>\n",
       "      <td>5</td>\n",
       "      <td>193</td>\n",
       "      <td>44</td>\n",
       "      <td>4.93</td>\n",
       "      <td>Exempt</td>\n",
       "      <td>t</td>\n",
       "    </tr>\n",
       "    <tr>\n",
       "      <th>...</th>\n",
       "      <td>...</td>\n",
       "      <td>...</td>\n",
       "      <td>...</td>\n",
       "      <td>...</td>\n",
       "      <td>...</td>\n",
       "      <td>...</td>\n",
       "      <td>...</td>\n",
       "      <td>...</td>\n",
       "      <td>...</td>\n",
       "      <td>...</td>\n",
       "      <td>...</td>\n",
       "      <td>...</td>\n",
       "      <td>...</td>\n",
       "      <td>...</td>\n",
       "      <td>...</td>\n",
       "      <td>...</td>\n",
       "      <td>...</td>\n",
       "      <td>...</td>\n",
       "      <td>...</td>\n",
       "      <td>...</td>\n",
       "      <td>...</td>\n",
       "    </tr>\n",
       "    <tr>\n",
       "      <th>45528</th>\n",
       "      <td>892894292387453414</td>\n",
       "      <td>Cozy 1 Bed, 2 Bath apartment</td>\n",
       "      <td>111223499</td>\n",
       "      <td>Eric</td>\n",
       "      <td>42748.0</td>\n",
       "      <td>NaN</td>\n",
       "      <td>NaN</td>\n",
       "      <td>f</td>\n",
       "      <td>Marina del Rey</td>\n",
       "      <td>Unincorporated Areas</td>\n",
       "      <td>...</td>\n",
       "      <td>NaN</td>\n",
       "      <td>1.0</td>\n",
       "      <td>NaN</td>\n",
       "      <td>NaN</td>\n",
       "      <td>1</td>\n",
       "      <td>0</td>\n",
       "      <td>0</td>\n",
       "      <td>NaN</td>\n",
       "      <td>NaN</td>\n",
       "      <td>f</td>\n",
       "    </tr>\n",
       "    <tr>\n",
       "      <th>45529</th>\n",
       "      <td>944430003646575559</td>\n",
       "      <td>DTLA Loft | Industrial | Central</td>\n",
       "      <td>528133129</td>\n",
       "      <td>Michael</td>\n",
       "      <td>45133.0</td>\n",
       "      <td>NaN</td>\n",
       "      <td>NaN</td>\n",
       "      <td>f</td>\n",
       "      <td>Downtown</td>\n",
       "      <td>City of Los Angeles</td>\n",
       "      <td>...</td>\n",
       "      <td>NaN</td>\n",
       "      <td>NaN</td>\n",
       "      <td>NaN</td>\n",
       "      <td>NaN</td>\n",
       "      <td>30</td>\n",
       "      <td>89</td>\n",
       "      <td>0</td>\n",
       "      <td>NaN</td>\n",
       "      <td>NaN</td>\n",
       "      <td>f</td>\n",
       "    </tr>\n",
       "    <tr>\n",
       "      <th>45530</th>\n",
       "      <td>746345243817423719</td>\n",
       "      <td>Long Beach, Rustic Suite 3 Beds, 1 Bath, 2 Rooms</td>\n",
       "      <td>484471086</td>\n",
       "      <td>Cabana</td>\n",
       "      <td>44855.0</td>\n",
       "      <td>within an hour</td>\n",
       "      <td>1.00</td>\n",
       "      <td>f</td>\n",
       "      <td>Long Beach</td>\n",
       "      <td>Other Cities</td>\n",
       "      <td>...</td>\n",
       "      <td>NaN</td>\n",
       "      <td>2.0</td>\n",
       "      <td>NaN</td>\n",
       "      <td>NaN</td>\n",
       "      <td>31</td>\n",
       "      <td>244</td>\n",
       "      <td>0</td>\n",
       "      <td>NaN</td>\n",
       "      <td>Exempt</td>\n",
       "      <td>t</td>\n",
       "    </tr>\n",
       "    <tr>\n",
       "      <th>45531</th>\n",
       "      <td>32943553</td>\n",
       "      <td>Charming Craftsman Bungalow w/ Outdoor Sauna</td>\n",
       "      <td>8110883</td>\n",
       "      <td>Christine</td>\n",
       "      <td>41498.0</td>\n",
       "      <td>within an hour</td>\n",
       "      <td>1.00</td>\n",
       "      <td>t</td>\n",
       "      <td>Jefferson Park</td>\n",
       "      <td>City of Los Angeles</td>\n",
       "      <td>...</td>\n",
       "      <td>1.0</td>\n",
       "      <td>0.0</td>\n",
       "      <td>1.0</td>\n",
       "      <td>116.0</td>\n",
       "      <td>2</td>\n",
       "      <td>141</td>\n",
       "      <td>212</td>\n",
       "      <td>4.84</td>\n",
       "      <td>HSR19-000881</td>\n",
       "      <td>t</td>\n",
       "    </tr>\n",
       "    <tr>\n",
       "      <th>45532</th>\n",
       "      <td>37853838</td>\n",
       "      <td>Views, big backyard, central LA!</td>\n",
       "      <td>8401300</td>\n",
       "      <td>Maite</td>\n",
       "      <td>41511.0</td>\n",
       "      <td>a few days or more</td>\n",
       "      <td>0.11</td>\n",
       "      <td>f</td>\n",
       "      <td>View Park-Windsor Hills</td>\n",
       "      <td>Unincorporated Areas</td>\n",
       "      <td>...</td>\n",
       "      <td>2.5</td>\n",
       "      <td>3.0</td>\n",
       "      <td>4.0</td>\n",
       "      <td>338.0</td>\n",
       "      <td>1</td>\n",
       "      <td>361</td>\n",
       "      <td>12</td>\n",
       "      <td>4.83</td>\n",
       "      <td>NaN</td>\n",
       "      <td>f</td>\n",
       "    </tr>\n",
       "  </tbody>\n",
       "</table>\n",
       "<p>45533 rows × 25 columns</p>\n",
       "</div>"
      ],
      "text/plain": [
       "                        id                                               name  \\\n",
       "0       670339032744709144     Westwood lovely three bedrooms three bathrooms   \n",
       "1                 37014494      Spanish style lower duplex near Beverly Hills   \n",
       "2      1024835174766068422                        Charming Beverly Hills Home   \n",
       "3       850744632375448560                   Tianpu's warm room with bathroom   \n",
       "4       953950676345326970  Santa Monica apt, free parking, steps to the b...   \n",
       "...                    ...                                                ...   \n",
       "45528   892894292387453414                       Cozy 1 Bed, 2 Bath apartment   \n",
       "45529   944430003646575559                   DTLA Loft | Industrial | Central   \n",
       "45530   746345243817423719   Long Beach, Rustic Suite 3 Beds, 1 Bath, 2 Rooms   \n",
       "45531             32943553       Charming Craftsman Bungalow w/ Outdoor Sauna   \n",
       "45532             37853838                   Views, big backyard, central LA!   \n",
       "\n",
       "         host_id  host_name host_since  host_response_time  \\\n",
       "0        4780152       Moon   20/01/13  within a few hours   \n",
       "1      278288178        Ida   22/07/19                 NaN   \n",
       "2      513813179      Tiana   08/05/23        within a day   \n",
       "3      432956623        Dan   22/11/21  a few days or more   \n",
       "4      528669205    Farkhat   29/07/23      within an hour   \n",
       "...          ...        ...        ...                 ...   \n",
       "45528  111223499       Eric    42748.0                 NaN   \n",
       "45529  528133129    Michael    45133.0                 NaN   \n",
       "45530  484471086     Cabana    44855.0      within an hour   \n",
       "45531    8110883  Christine    41498.0      within an hour   \n",
       "45532    8401300      Maite    41511.0  a few days or more   \n",
       "\n",
       "       host_response_rate host_is_superhost   neighbourhood_cleansed  \\\n",
       "0                    0.96                 f         West Los Angeles   \n",
       "1                     NaN                 f              Beverlywood   \n",
       "2                    0.60                 f            Beverly Hills   \n",
       "3                    0.20                 f              Temple City   \n",
       "4                    1.00                 t             Santa Monica   \n",
       "...                   ...               ...                      ...   \n",
       "45528                 NaN                 f           Marina del Rey   \n",
       "45529                 NaN                 f                 Downtown   \n",
       "45530                1.00                 f               Long Beach   \n",
       "45531                1.00                 t           Jefferson Park   \n",
       "45532                0.11                 f  View Park-Windsor Hills   \n",
       "\n",
       "      neighbourhood_group_cleansed  ...  bathrooms  bedrooms beds  price  \\\n",
       "0              City of Los Angeles  ...        3.0       3.0  3.0  399.0   \n",
       "1              City of Los Angeles  ...        NaN       2.0  NaN    NaN   \n",
       "2                     Other Cities  ...        3.0       3.0  3.0  434.0   \n",
       "3                     Other Cities  ...        1.0       1.0  1.0   49.0   \n",
       "4                     Other Cities  ...        1.0       0.0  1.0  231.0   \n",
       "...                            ...  ...        ...       ...  ...    ...   \n",
       "45528         Unincorporated Areas  ...        NaN       1.0  NaN    NaN   \n",
       "45529          City of Los Angeles  ...        NaN       NaN  NaN    NaN   \n",
       "45530                 Other Cities  ...        NaN       2.0  NaN    NaN   \n",
       "45531          City of Los Angeles  ...        1.0       0.0  1.0  116.0   \n",
       "45532         Unincorporated Areas  ...        2.5       3.0  4.0  338.0   \n",
       "\n",
       "       minimum_nights  availability_365  number_of_reviews  \\\n",
       "0                  30               365                  0   \n",
       "1                  30                 0                  0   \n",
       "2                  30               267                  0   \n",
       "3                   1               364                  1   \n",
       "4                   5               193                 44   \n",
       "...               ...               ...                ...   \n",
       "45528               1                 0                  0   \n",
       "45529              30                89                  0   \n",
       "45530              31               244                  0   \n",
       "45531               2               141                212   \n",
       "45532               1               361                 12   \n",
       "\n",
       "       review_scores_rating       license  instant_bookable  \n",
       "0                       NaN           NaN                 f  \n",
       "1                       NaN           NaN                 f  \n",
       "2                       NaN           NaN                 f  \n",
       "3                      3.00           NaN                 f  \n",
       "4                      4.93        Exempt                 t  \n",
       "...                     ...           ...               ...  \n",
       "45528                   NaN           NaN                 f  \n",
       "45529                   NaN           NaN                 f  \n",
       "45530                   NaN        Exempt                 t  \n",
       "45531                  4.84  HSR19-000881                 t  \n",
       "45532                  4.83           NaN                 f  \n",
       "\n",
       "[45533 rows x 25 columns]"
      ]
     },
     "execution_count": 9,
     "metadata": {},
     "output_type": "execute_result"
    }
   ],
   "source": [
    "la_data"
   ]
  },
  {
   "cell_type": "code",
   "execution_count": 10,
   "metadata": {},
   "outputs": [
    {
     "data": {
      "text/html": [
       "<div>\n",
       "<style scoped>\n",
       "    .dataframe tbody tr th:only-of-type {\n",
       "        vertical-align: middle;\n",
       "    }\n",
       "\n",
       "    .dataframe tbody tr th {\n",
       "        vertical-align: top;\n",
       "    }\n",
       "\n",
       "    .dataframe thead th {\n",
       "        text-align: right;\n",
       "    }\n",
       "</style>\n",
       "<table border=\"1\" class=\"dataframe\">\n",
       "  <thead>\n",
       "    <tr style=\"text-align: right;\">\n",
       "      <th></th>\n",
       "      <th>id</th>\n",
       "      <th>name</th>\n",
       "      <th>host_id</th>\n",
       "      <th>host_name</th>\n",
       "      <th>host_since</th>\n",
       "      <th>host_response_time</th>\n",
       "      <th>host_response_rate</th>\n",
       "      <th>host_is_superhost</th>\n",
       "      <th>neighbourhood_cleansed</th>\n",
       "      <th>neighbourhood_group_cleansed</th>\n",
       "      <th>...</th>\n",
       "      <th>bathrooms</th>\n",
       "      <th>bedrooms</th>\n",
       "      <th>beds</th>\n",
       "      <th>price</th>\n",
       "      <th>minimum_nights</th>\n",
       "      <th>availability_365</th>\n",
       "      <th>number_of_reviews</th>\n",
       "      <th>review_scores_rating</th>\n",
       "      <th>license</th>\n",
       "      <th>instant_bookable</th>\n",
       "    </tr>\n",
       "  </thead>\n",
       "  <tbody>\n",
       "    <tr>\n",
       "      <th>0</th>\n",
       "      <td>670339032744709144</td>\n",
       "      <td>Westwood lovely three bedrooms three bathrooms</td>\n",
       "      <td>4780152</td>\n",
       "      <td>Moon</td>\n",
       "      <td>20/01/13</td>\n",
       "      <td>within a few hours</td>\n",
       "      <td>0.96</td>\n",
       "      <td>f</td>\n",
       "      <td>West Los Angeles</td>\n",
       "      <td>City of Los Angeles</td>\n",
       "      <td>...</td>\n",
       "      <td>3.0</td>\n",
       "      <td>3.0</td>\n",
       "      <td>3.0</td>\n",
       "      <td>399.0</td>\n",
       "      <td>30</td>\n",
       "      <td>365</td>\n",
       "      <td>0</td>\n",
       "      <td>NaN</td>\n",
       "      <td>NaN</td>\n",
       "      <td>f</td>\n",
       "    </tr>\n",
       "    <tr>\n",
       "      <th>1</th>\n",
       "      <td>37014494</td>\n",
       "      <td>Spanish style lower duplex near Beverly Hills</td>\n",
       "      <td>278288178</td>\n",
       "      <td>Ida</td>\n",
       "      <td>22/07/19</td>\n",
       "      <td>NaN</td>\n",
       "      <td>NaN</td>\n",
       "      <td>f</td>\n",
       "      <td>Beverlywood</td>\n",
       "      <td>City of Los Angeles</td>\n",
       "      <td>...</td>\n",
       "      <td>NaN</td>\n",
       "      <td>2.0</td>\n",
       "      <td>NaN</td>\n",
       "      <td>NaN</td>\n",
       "      <td>30</td>\n",
       "      <td>0</td>\n",
       "      <td>0</td>\n",
       "      <td>NaN</td>\n",
       "      <td>NaN</td>\n",
       "      <td>f</td>\n",
       "    </tr>\n",
       "    <tr>\n",
       "      <th>2</th>\n",
       "      <td>1024835174766068422</td>\n",
       "      <td>Charming Beverly Hills Home</td>\n",
       "      <td>513813179</td>\n",
       "      <td>Tiana</td>\n",
       "      <td>08/05/23</td>\n",
       "      <td>within a day</td>\n",
       "      <td>0.60</td>\n",
       "      <td>f</td>\n",
       "      <td>Beverly Hills</td>\n",
       "      <td>Other Cities</td>\n",
       "      <td>...</td>\n",
       "      <td>3.0</td>\n",
       "      <td>3.0</td>\n",
       "      <td>3.0</td>\n",
       "      <td>434.0</td>\n",
       "      <td>30</td>\n",
       "      <td>267</td>\n",
       "      <td>0</td>\n",
       "      <td>NaN</td>\n",
       "      <td>NaN</td>\n",
       "      <td>f</td>\n",
       "    </tr>\n",
       "    <tr>\n",
       "      <th>3</th>\n",
       "      <td>850744632375448560</td>\n",
       "      <td>Tianpu's warm room with bathroom</td>\n",
       "      <td>432956623</td>\n",
       "      <td>Dan</td>\n",
       "      <td>22/11/21</td>\n",
       "      <td>a few days or more</td>\n",
       "      <td>0.20</td>\n",
       "      <td>f</td>\n",
       "      <td>Temple City</td>\n",
       "      <td>Other Cities</td>\n",
       "      <td>...</td>\n",
       "      <td>1.0</td>\n",
       "      <td>1.0</td>\n",
       "      <td>1.0</td>\n",
       "      <td>49.0</td>\n",
       "      <td>1</td>\n",
       "      <td>364</td>\n",
       "      <td>1</td>\n",
       "      <td>3.00</td>\n",
       "      <td>NaN</td>\n",
       "      <td>f</td>\n",
       "    </tr>\n",
       "    <tr>\n",
       "      <th>4</th>\n",
       "      <td>953950676345326970</td>\n",
       "      <td>Santa Monica apt, free parking, steps to the b...</td>\n",
       "      <td>528669205</td>\n",
       "      <td>Farkhat</td>\n",
       "      <td>29/07/23</td>\n",
       "      <td>within an hour</td>\n",
       "      <td>1.00</td>\n",
       "      <td>t</td>\n",
       "      <td>Santa Monica</td>\n",
       "      <td>Other Cities</td>\n",
       "      <td>...</td>\n",
       "      <td>1.0</td>\n",
       "      <td>0.0</td>\n",
       "      <td>1.0</td>\n",
       "      <td>231.0</td>\n",
       "      <td>5</td>\n",
       "      <td>193</td>\n",
       "      <td>44</td>\n",
       "      <td>4.93</td>\n",
       "      <td>Exempt</td>\n",
       "      <td>t</td>\n",
       "    </tr>\n",
       "  </tbody>\n",
       "</table>\n",
       "<p>5 rows × 25 columns</p>\n",
       "</div>"
      ],
      "text/plain": [
       "                    id                                               name  \\\n",
       "0   670339032744709144     Westwood lovely three bedrooms three bathrooms   \n",
       "1             37014494      Spanish style lower duplex near Beverly Hills   \n",
       "2  1024835174766068422                        Charming Beverly Hills Home   \n",
       "3   850744632375448560                   Tianpu's warm room with bathroom   \n",
       "4   953950676345326970  Santa Monica apt, free parking, steps to the b...   \n",
       "\n",
       "     host_id host_name host_since  host_response_time  host_response_rate  \\\n",
       "0    4780152      Moon   20/01/13  within a few hours                0.96   \n",
       "1  278288178       Ida   22/07/19                 NaN                 NaN   \n",
       "2  513813179     Tiana   08/05/23        within a day                0.60   \n",
       "3  432956623       Dan   22/11/21  a few days or more                0.20   \n",
       "4  528669205   Farkhat   29/07/23      within an hour                1.00   \n",
       "\n",
       "  host_is_superhost neighbourhood_cleansed neighbourhood_group_cleansed  ...  \\\n",
       "0                 f       West Los Angeles          City of Los Angeles  ...   \n",
       "1                 f            Beverlywood          City of Los Angeles  ...   \n",
       "2                 f          Beverly Hills                 Other Cities  ...   \n",
       "3                 f            Temple City                 Other Cities  ...   \n",
       "4                 t           Santa Monica                 Other Cities  ...   \n",
       "\n",
       "   bathrooms  bedrooms beds  price  minimum_nights  availability_365  \\\n",
       "0        3.0       3.0  3.0  399.0              30               365   \n",
       "1        NaN       2.0  NaN    NaN              30                 0   \n",
       "2        3.0       3.0  3.0  434.0              30               267   \n",
       "3        1.0       1.0  1.0   49.0               1               364   \n",
       "4        1.0       0.0  1.0  231.0               5               193   \n",
       "\n",
       "   number_of_reviews  review_scores_rating  license  instant_bookable  \n",
       "0                  0                   NaN      NaN                 f  \n",
       "1                  0                   NaN      NaN                 f  \n",
       "2                  0                   NaN      NaN                 f  \n",
       "3                  1                  3.00      NaN                 f  \n",
       "4                 44                  4.93   Exempt                 t  \n",
       "\n",
       "[5 rows x 25 columns]"
      ]
     },
     "execution_count": 10,
     "metadata": {},
     "output_type": "execute_result"
    }
   ],
   "source": [
    "la_data.head()"
   ]
  },
  {
   "cell_type": "code",
   "execution_count": 11,
   "metadata": {},
   "outputs": [
    {
     "data": {
      "text/html": [
       "<div>\n",
       "<style scoped>\n",
       "    .dataframe tbody tr th:only-of-type {\n",
       "        vertical-align: middle;\n",
       "    }\n",
       "\n",
       "    .dataframe tbody tr th {\n",
       "        vertical-align: top;\n",
       "    }\n",
       "\n",
       "    .dataframe thead th {\n",
       "        text-align: right;\n",
       "    }\n",
       "</style>\n",
       "<table border=\"1\" class=\"dataframe\">\n",
       "  <thead>\n",
       "    <tr style=\"text-align: right;\">\n",
       "      <th></th>\n",
       "      <th>id</th>\n",
       "      <th>name</th>\n",
       "      <th>host_id</th>\n",
       "      <th>host_name</th>\n",
       "      <th>host_since</th>\n",
       "      <th>host_response_time</th>\n",
       "      <th>host_response_rate</th>\n",
       "      <th>host_is_superhost</th>\n",
       "      <th>neighbourhood_cleansed</th>\n",
       "      <th>neighbourhood_group_cleansed</th>\n",
       "      <th>...</th>\n",
       "      <th>bathrooms</th>\n",
       "      <th>bedrooms</th>\n",
       "      <th>beds</th>\n",
       "      <th>price</th>\n",
       "      <th>minimum_nights</th>\n",
       "      <th>availability_365</th>\n",
       "      <th>number_of_reviews</th>\n",
       "      <th>review_scores_rating</th>\n",
       "      <th>license</th>\n",
       "      <th>instant_bookable</th>\n",
       "    </tr>\n",
       "  </thead>\n",
       "  <tbody>\n",
       "    <tr>\n",
       "      <th>0</th>\n",
       "      <td>670339032744709144</td>\n",
       "      <td>Westwood lovely three bedrooms three bathrooms</td>\n",
       "      <td>4780152</td>\n",
       "      <td>Moon</td>\n",
       "      <td>20/01/13</td>\n",
       "      <td>within a few hours</td>\n",
       "      <td>0.96</td>\n",
       "      <td>f</td>\n",
       "      <td>West Los Angeles</td>\n",
       "      <td>City of Los Angeles</td>\n",
       "      <td>...</td>\n",
       "      <td>3.0</td>\n",
       "      <td>3.0</td>\n",
       "      <td>3.0</td>\n",
       "      <td>399.0</td>\n",
       "      <td>30</td>\n",
       "      <td>365</td>\n",
       "      <td>0</td>\n",
       "      <td>NaN</td>\n",
       "      <td>NaN</td>\n",
       "      <td>f</td>\n",
       "    </tr>\n",
       "    <tr>\n",
       "      <th>1</th>\n",
       "      <td>37014494</td>\n",
       "      <td>Spanish style lower duplex near Beverly Hills</td>\n",
       "      <td>278288178</td>\n",
       "      <td>Ida</td>\n",
       "      <td>22/07/19</td>\n",
       "      <td>NaN</td>\n",
       "      <td>NaN</td>\n",
       "      <td>f</td>\n",
       "      <td>Beverlywood</td>\n",
       "      <td>City of Los Angeles</td>\n",
       "      <td>...</td>\n",
       "      <td>NaN</td>\n",
       "      <td>2.0</td>\n",
       "      <td>NaN</td>\n",
       "      <td>NaN</td>\n",
       "      <td>30</td>\n",
       "      <td>0</td>\n",
       "      <td>0</td>\n",
       "      <td>NaN</td>\n",
       "      <td>NaN</td>\n",
       "      <td>f</td>\n",
       "    </tr>\n",
       "    <tr>\n",
       "      <th>2</th>\n",
       "      <td>1024835174766068422</td>\n",
       "      <td>Charming Beverly Hills Home</td>\n",
       "      <td>513813179</td>\n",
       "      <td>Tiana</td>\n",
       "      <td>08/05/23</td>\n",
       "      <td>within a day</td>\n",
       "      <td>0.60</td>\n",
       "      <td>f</td>\n",
       "      <td>Beverly Hills</td>\n",
       "      <td>Other Cities</td>\n",
       "      <td>...</td>\n",
       "      <td>3.0</td>\n",
       "      <td>3.0</td>\n",
       "      <td>3.0</td>\n",
       "      <td>434.0</td>\n",
       "      <td>30</td>\n",
       "      <td>267</td>\n",
       "      <td>0</td>\n",
       "      <td>NaN</td>\n",
       "      <td>NaN</td>\n",
       "      <td>f</td>\n",
       "    </tr>\n",
       "  </tbody>\n",
       "</table>\n",
       "<p>3 rows × 25 columns</p>\n",
       "</div>"
      ],
      "text/plain": [
       "                    id                                            name  \\\n",
       "0   670339032744709144  Westwood lovely three bedrooms three bathrooms   \n",
       "1             37014494   Spanish style lower duplex near Beverly Hills   \n",
       "2  1024835174766068422                     Charming Beverly Hills Home   \n",
       "\n",
       "     host_id host_name host_since  host_response_time  host_response_rate  \\\n",
       "0    4780152      Moon   20/01/13  within a few hours                0.96   \n",
       "1  278288178       Ida   22/07/19                 NaN                 NaN   \n",
       "2  513813179     Tiana   08/05/23        within a day                0.60   \n",
       "\n",
       "  host_is_superhost neighbourhood_cleansed neighbourhood_group_cleansed  ...  \\\n",
       "0                 f       West Los Angeles          City of Los Angeles  ...   \n",
       "1                 f            Beverlywood          City of Los Angeles  ...   \n",
       "2                 f          Beverly Hills                 Other Cities  ...   \n",
       "\n",
       "   bathrooms  bedrooms beds  price  minimum_nights  availability_365  \\\n",
       "0        3.0       3.0  3.0  399.0              30               365   \n",
       "1        NaN       2.0  NaN    NaN              30                 0   \n",
       "2        3.0       3.0  3.0  434.0              30               267   \n",
       "\n",
       "   number_of_reviews  review_scores_rating  license  instant_bookable  \n",
       "0                  0                   NaN      NaN                 f  \n",
       "1                  0                   NaN      NaN                 f  \n",
       "2                  0                   NaN      NaN                 f  \n",
       "\n",
       "[3 rows x 25 columns]"
      ]
     },
     "execution_count": 11,
     "metadata": {},
     "output_type": "execute_result"
    }
   ],
   "source": [
    "la_data.head(3)"
   ]
  },
  {
   "cell_type": "code",
   "execution_count": null,
   "metadata": {},
   "outputs": [
    {
     "name": "stdout",
     "output_type": "stream",
     "text": [
      "0             Moon\n",
      "1              Ida\n",
      "2            Tiana\n",
      "3              Dan\n",
      "4          Farkhat\n",
      "           ...    \n",
      "45528         Eric\n",
      "45529      Michael\n",
      "45530       Cabana\n",
      "45531    Christine\n",
      "45532        Maite\n",
      "Name: host_name, Length: 45533, dtype: object\n"
     ]
    }
   ],
   "source": [
    "la_data['host_name']"
   ]
  },
  {
   "cell_type": "code",
   "execution_count": 17,
   "metadata": {},
   "outputs": [
    {
     "data": {
      "text/plain": [
       "id                                                          670339032744709144\n",
       "name                            Westwood lovely three bedrooms three bathrooms\n",
       "host_id                                                                4780152\n",
       "host_name                                                                 Moon\n",
       "host_since                                                            20/01/13\n",
       "host_response_time                                          within a few hours\n",
       "host_response_rate                                                        0.96\n",
       "host_is_superhost                                                            f\n",
       "neighbourhood_cleansed                                        West Los Angeles\n",
       "neighbourhood_group_cleansed                               City of Los Angeles\n",
       "latitude                                                              34.04966\n",
       "longitude                                                           -118.43555\n",
       "property_type                                                     Entire condo\n",
       "room_type                                                      Entire home/apt\n",
       "accommodates                                                                 6\n",
       "bathrooms                                                                  3.0\n",
       "bedrooms                                                                   3.0\n",
       "beds                                                                       3.0\n",
       "price                                                                    399.0\n",
       "minimum_nights                                                              30\n",
       "availability_365                                                           365\n",
       "number_of_reviews                                                            0\n",
       "review_scores_rating                                                       NaN\n",
       "license                                                                    NaN\n",
       "instant_bookable                                                             f\n",
       "Name: 0, dtype: object"
      ]
     },
     "execution_count": 17,
     "metadata": {},
     "output_type": "execute_result"
    }
   ],
   "source": [
    "#Picking row \n",
    "la_data.loc[0]"
   ]
  },
  {
   "cell_type": "code",
   "execution_count": 16,
   "metadata": {},
   "outputs": [
    {
     "data": {
      "text/plain": [
       "id                                                          670339032744709144\n",
       "name                            Westwood lovely three bedrooms three bathrooms\n",
       "host_id                                                                4780152\n",
       "host_name                                                                 Moon\n",
       "host_since                                                            20/01/13\n",
       "host_response_time                                          within a few hours\n",
       "host_response_rate                                                        0.96\n",
       "host_is_superhost                                                            f\n",
       "neighbourhood_cleansed                                        West Los Angeles\n",
       "neighbourhood_group_cleansed                               City of Los Angeles\n",
       "latitude                                                              34.04966\n",
       "longitude                                                           -118.43555\n",
       "property_type                                                     Entire condo\n",
       "room_type                                                      Entire home/apt\n",
       "accommodates                                                                 6\n",
       "bathrooms                                                                  3.0\n",
       "bedrooms                                                                   3.0\n",
       "beds                                                                       3.0\n",
       "price                                                                    399.0\n",
       "minimum_nights                                                              30\n",
       "availability_365                                                           365\n",
       "number_of_reviews                                                            0\n",
       "review_scores_rating                                                       NaN\n",
       "license                                                                    NaN\n",
       "instant_bookable                                                             f\n",
       "Name: 0, dtype: object"
      ]
     },
     "execution_count": 16,
     "metadata": {},
     "output_type": "execute_result"
    }
   ],
   "source": [
    "#Picking column\n",
    "la_data.iloc[0]"
   ]
  },
  {
   "cell_type": "code",
   "execution_count": 18,
   "metadata": {},
   "outputs": [
    {
     "data": {
      "text/plain": [
       "Name           Namir\n",
       "Age               21\n",
       "Location    New York\n",
       "Name: 0, dtype: object"
      ]
     },
     "execution_count": 18,
     "metadata": {},
     "output_type": "execute_result"
    }
   ],
   "source": [
    "data2.loc[0]"
   ]
  },
  {
   "cell_type": "code",
   "execution_count": 19,
   "metadata": {},
   "outputs": [
    {
     "data": {
      "text/plain": [
       "Name           Namir\n",
       "Age               21\n",
       "Location    New York\n",
       "Name: 0, dtype: object"
      ]
     },
     "execution_count": 19,
     "metadata": {},
     "output_type": "execute_result"
    }
   ],
   "source": [
    "data2.iloc[0]"
   ]
  },
  {
   "cell_type": "code",
   "execution_count": 20,
   "metadata": {},
   "outputs": [
    {
     "data": {
      "text/plain": [
       "Name          Stark\n",
       "Age              27\n",
       "Location    Chicago\n",
       "Name: 3, dtype: object"
      ]
     },
     "execution_count": 20,
     "metadata": {},
     "output_type": "execute_result"
    }
   ],
   "source": [
    "data2.loc[3]"
   ]
  },
  {
   "cell_type": "code",
   "execution_count": 21,
   "metadata": {},
   "outputs": [
    {
     "data": {
      "text/plain": [
       "Name          Stark\n",
       "Age              27\n",
       "Location    Chicago\n",
       "Name: 3, dtype: object"
      ]
     },
     "execution_count": 21,
     "metadata": {},
     "output_type": "execute_result"
    }
   ],
   "source": [
    "data2.iloc[3]"
   ]
  },
  {
   "cell_type": "code",
   "execution_count": 22,
   "metadata": {},
   "outputs": [
    {
     "name": "stderr",
     "output_type": "stream",
     "text": [
      "C:\\Users\\namir\\AppData\\Local\\Temp\\ipykernel_8100\\1088316015.py:1: FutureWarning: Series.__getitem__ treating keys as positions is deprecated. In a future version, integer keys will always be treated as labels (consistent with DataFrame behavior). To access a value by position, use `ser.iloc[pos]`\n",
      "  data2.loc[0][0]\n"
     ]
    },
    {
     "data": {
      "text/plain": [
       "'Namir'"
      ]
     },
     "execution_count": 22,
     "metadata": {},
     "output_type": "execute_result"
    }
   ],
   "source": [
    "data2.loc[0][0]"
   ]
  },
  {
   "cell_type": "code",
   "execution_count": 23,
   "metadata": {},
   "outputs": [
    {
     "data": {
      "text/plain": [
       "0             Moon\n",
       "1              Ida\n",
       "2            Tiana\n",
       "3              Dan\n",
       "4          Farkhat\n",
       "           ...    \n",
       "45528         Eric\n",
       "45529      Michael\n",
       "45530       Cabana\n",
       "45531    Christine\n",
       "45532        Maite\n",
       "Name: host_name, Length: 45533, dtype: object"
      ]
     },
     "execution_count": 23,
     "metadata": {},
     "output_type": "execute_result"
    }
   ],
   "source": [
    "la_data['host_name']"
   ]
  },
  {
   "cell_type": "code",
   "execution_count": 24,
   "metadata": {},
   "outputs": [
    {
     "data": {
      "text/plain": [
       "'Spanish style lower duplex near Beverly Hills'"
      ]
     },
     "execution_count": 24,
     "metadata": {},
     "output_type": "execute_result"
    }
   ],
   "source": [
    "la_data.at[1,'name']"
   ]
  },
  {
   "cell_type": "code",
   "execution_count": 26,
   "metadata": {},
   "outputs": [
    {
     "data": {
      "text/plain": [
       "'Ida'"
      ]
     },
     "execution_count": 26,
     "metadata": {},
     "output_type": "execute_result"
    }
   ],
   "source": [
    "#other way to access from row column\n",
    "la_data.iat[1,3]"
   ]
  },
  {
   "cell_type": "code",
   "execution_count": 31,
   "metadata": {},
   "outputs": [
    {
     "name": "stderr",
     "output_type": "stream",
     "text": [
      "C:\\Users\\namir\\AppData\\Local\\Temp\\ipykernel_8100\\543590287.py:1: FutureWarning: Series.__getitem__ treating keys as positions is deprecated. In a future version, integer keys will always be treated as labels (consistent with DataFrame behavior). To access a value by position, use `ser.iloc[pos]`\n",
      "  la_data.loc[1][3]\n"
     ]
    },
    {
     "data": {
      "text/plain": [
       "'Ida'"
      ]
     },
     "execution_count": 31,
     "metadata": {},
     "output_type": "execute_result"
    }
   ],
   "source": [
    "la_data.loc[1][3]"
   ]
  },
  {
   "cell_type": "code",
   "execution_count": null,
   "metadata": {},
   "outputs": [],
   "source": []
  }
 ],
 "metadata": {
  "kernelspec": {
   "display_name": "Python 3",
   "language": "python",
   "name": "python3"
  },
  "language_info": {
   "codemirror_mode": {
    "name": "ipython",
    "version": 3
   },
   "file_extension": ".py",
   "mimetype": "text/x-python",
   "name": "python",
   "nbconvert_exporter": "python",
   "pygments_lexer": "ipython3",
   "version": "3.11.9"
  }
 },
 "nbformat": 4,
 "nbformat_minor": 2
}
